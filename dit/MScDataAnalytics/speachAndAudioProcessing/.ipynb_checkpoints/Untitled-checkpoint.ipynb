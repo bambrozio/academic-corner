{
 "cells": [
  {
   "cell_type": "code",
   "execution_count": 1,
   "metadata": {},
   "outputs": [
    {
     "name": "stdout",
     "output_type": "stream",
     "text": [
      "[ 1.  0. -1.]\n"
     ]
    }
   ],
   "source": [
    "#1)\n",
    "import matplotlib.pyplot as plt\n",
    "import numpy as np\n",
    "import librosa\n",
    "\n",
    "x = np.array([1, 0, -1], dtype = np.float32)\n",
    "print(x)\n",
    "\n",
    "#2)\n",
    "print(np.cos(x))\n",
    "\n",
    "m1 = [[0, 1, 2, 3, 2, 1, 0, -1, -2, -3] , [0, 1 ,2 ,3 ,2 ,1 , 0, -1, -2, -3]]\n",
    "a2 = np.array(m1, dtype = np.float32)\n",
    "print(a2.shape)\n",
    "\n",
    "m2 = [ [ 0, 1, 2, 3, 4, 5, 6, 7, 8, 9 ] , [ 0, .1, .2, .3 ,2 ,1 , 0, .1, .2, .3 ]]\n",
    "a1 = np.array(m2, dtype = np.float32)\n",
    "# p l o t(x, y, properties) where r means red ;\n",
    "# − means a solidline; x means mark points with an x\n",
    "plt.plot(a1[0, :], a1[1, :], 'r−x')\n"
   ]
  }
 ],
 "metadata": {
  "kernelspec": {
   "display_name": "Python 3",
   "language": "python",
   "name": "python3"
  },
  "language_info": {
   "codemirror_mode": {
    "name": "ipython",
    "version": 3
   },
   "file_extension": ".py",
   "mimetype": "text/x-python",
   "name": "python",
   "nbconvert_exporter": "python",
   "pygments_lexer": "ipython3",
   "version": "3.7.1"
  }
 },
 "nbformat": 4,
 "nbformat_minor": 2
}
